{
  "nbformat": 4,
  "nbformat_minor": 0,
  "metadata": {
    "colab": {
      "name": "Exercise 3",
      "provenance": [],
      "collapsed_sections": [],
      "authorship_tag": "ABX9TyMOoZLOhtbZ3Xt5g7f6scMc",
      "include_colab_link": true
    },
    "kernelspec": {
      "name": "python3",
      "display_name": "Python 3"
    },
    "language_info": {
      "name": "python"
    }
  },
  "cells": [
    {
      "cell_type": "markdown",
      "metadata": {
        "id": "view-in-github",
        "colab_type": "text"
      },
      "source": [
        "<a href=\"https://colab.research.google.com/github/Udemebilly/Data-Visualisation/blob/master/Exercise_3.ipynb\" target=\"_parent\"><img src=\"https://colab.research.google.com/assets/colab-badge.svg\" alt=\"Open In Colab\"/></a>"
      ]
    },
    {
      "cell_type": "code",
      "metadata": {
        "id": "8D1avQqFrh8l"
      },
      "source": [
        "import math"
      ],
      "execution_count": 9,
      "outputs": []
    },
    {
      "cell_type": "code",
      "metadata": {
        "colab": {
          "base_uri": "https://localhost:8080/"
        },
        "id": "-uL7jldYteri",
        "outputId": "7233827d-89da-4be0-9de8-552a73bd7de7"
      },
      "source": [
        "import statistics\n",
        "statistics.stdev([1,2,3,4])\n"
      ],
      "execution_count": 10,
      "outputs": [
        {
          "output_type": "execute_result",
          "data": {
            "text/plain": [
              "1.2909944487358056"
            ]
          },
          "metadata": {
            "tags": []
          },
          "execution_count": 10
        }
      ]
    },
    {
      "cell_type": "code",
      "metadata": {
        "colab": {
          "base_uri": "https://localhost:8080/"
        },
        "id": "FGni8vZuvTCn",
        "outputId": "36a89988-5948-49c6-ad6e-52576fbbe9f3"
      },
      "source": [
        "\n",
        "math.sqrt(49)"
      ],
      "execution_count": 13,
      "outputs": [
        {
          "output_type": "execute_result",
          "data": {
            "text/plain": [
              "7.0"
            ]
          },
          "metadata": {
            "tags": []
          },
          "execution_count": 13
        }
      ]
    },
    {
      "cell_type": "code",
      "metadata": {
        "id": "1jqH2fWYvX6L"
      },
      "source": [
        "import random\n",
        "random.seed(42)"
      ],
      "execution_count": 14,
      "outputs": []
    },
    {
      "cell_type": "code",
      "metadata": {
        "colab": {
          "base_uri": "https://localhost:8080/"
        },
        "id": "hsnG3uOJvoMh",
        "outputId": "8c13cd27-25bc-401f-fb51-5258dc5e8823"
      },
      "source": [
        "print(random.randint(1,50))\n"
      ],
      "execution_count": 15,
      "outputs": [
        {
          "output_type": "stream",
          "text": [
            "41\n"
          ],
          "name": "stdout"
        }
      ]
    },
    {
      "cell_type": "code",
      "metadata": {
        "colab": {
          "base_uri": "https://localhost:8080/"
        },
        "id": "WuikpK-ov1A_",
        "outputId": "958416e9-1d59-47e0-b106-1a8e58275eac"
      },
      "source": [
        "print(random.random()) #returns a floating number"
      ],
      "execution_count": 16,
      "outputs": [
        {
          "output_type": "stream",
          "text": [
            "0.11133106816568039\n"
          ],
          "name": "stdout"
        }
      ]
    },
    {
      "cell_type": "code",
      "metadata": {
        "id": "BFz24qRsv7ua"
      },
      "source": [
        "import datetime\n",
        "import pandas"
      ],
      "execution_count": 17,
      "outputs": []
    },
    {
      "cell_type": "code",
      "metadata": {
        "id": "cgmboTzwwTny"
      },
      "source": [
        "x= 3\n",
        "nick = 100\n",
        "j = ['John', 'people', 'Bose']\n",
        "x2 = 4"
      ],
      "execution_count": 18,
      "outputs": []
    },
    {
      "cell_type": "code",
      "metadata": {
        "id": "-8y4cbd8wt-1"
      },
      "source": [
        ""
      ],
      "execution_count": null,
      "outputs": []
    },
    {
      "cell_type": "code",
      "metadata": {
        "colab": {
          "base_uri": "https://localhost:8080/"
        },
        "collapsed": true,
        "id": "Vt_14WIpmCtr",
        "outputId": "4709902f-70fc-4642-fb24-a4f4f7435ba4"
      },
      "source": [
        "x = [1, 2, 3]\n",
        "x = x[2]\n",
        "x *= 5 # Equivalent to x = x * 2\n",
        "x"
      ],
      "execution_count": 21,
      "outputs": [
        {
          "output_type": "execute_result",
          "data": {
            "text/plain": [
              "15"
            ]
          },
          "metadata": {
            "tags": []
          },
          "execution_count": 21
        }
      ]
    },
    {
      "cell_type": "code",
      "metadata": {
        "id": "69GBn2a8w9GL"
      },
      "source": [
        ""
      ],
      "execution_count": null,
      "outputs": []
    },
    {
      "cell_type": "code",
      "metadata": {
        "colab": {
          "base_uri": "https://localhost:8080/"
        },
        "collapsed": true,
        "id": "KE5Ht2j3xM0-",
        "outputId": "fbb64e80-bf88-457c-d3da-eeeedd3d38ea"
      },
      "source": [
        "data = [1, 2, 3]\n",
        "list(data * 2 for data in data)\n",
        "\n"
      ],
      "execution_count": 26,
      "outputs": [
        {
          "output_type": "execute_result",
          "data": {
            "text/plain": [
              "[2, 4, 6]"
            ]
          },
          "metadata": {
            "tags": []
          },
          "execution_count": 26
        }
      ]
    },
    {
      "cell_type": "code",
      "metadata": {
        "colab": {
          "base_uri": "https://localhost:8080/"
        },
        "id": "nEKqxkeRxbX5",
        "outputId": "51e680d0-dce9-43d3-e95b-4a95971aca06"
      },
      "source": [
        "data = [1, 2, 3]\n",
        "[data[0]*2, data[2]*4, data[1]*1]"
      ],
      "execution_count": 27,
      "outputs": [
        {
          "output_type": "execute_result",
          "data": {
            "text/plain": [
              "[2, 12, 2]"
            ]
          },
          "metadata": {
            "tags": []
          },
          "execution_count": 27
        }
      ]
    },
    {
      "cell_type": "code",
      "metadata": {
        "colab": {
          "base_uri": "https://localhost:8080/"
        },
        "id": "ywIjmO6nyTgC",
        "outputId": "452e1bea-3c4c-45f8-98c6-3448af308a93"
      },
      "source": [
        "data = [1, 2, 3]\n",
        "tuple(math.sqrt(value)+ 2 for value in data)"
      ],
      "execution_count": 28,
      "outputs": [
        {
          "output_type": "execute_result",
          "data": {
            "text/plain": [
              "(3.0, 3.414213562373095, 3.732050807568877)"
            ]
          },
          "metadata": {
            "tags": []
          },
          "execution_count": 28
        }
      ]
    },
    {
      "cell_type": "code",
      "metadata": {
        "colab": {
          "base_uri": "https://localhost:8080/"
        },
        "id": "lcCSapU2ymIO",
        "outputId": "ae05238d-7658-4073-911b-6df8ebe7e579"
      },
      "source": [
        "data = [4, 9, 16]\n",
        "(math.sqrt(data[0])+2, math.sqrt(data[1])+2, math.sqrt(data[2])+ 3)"
      ],
      "execution_count": 29,
      "outputs": [
        {
          "output_type": "execute_result",
          "data": {
            "text/plain": [
              "(4.0, 5.0, 7.0)"
            ]
          },
          "metadata": {
            "tags": []
          },
          "execution_count": 29
        }
      ]
    },
    {
      "cell_type": "code",
      "metadata": {
        "colab": {
          "base_uri": "https://localhost:8080/"
        },
        "id": "OZqrHD3KzNDr",
        "outputId": "0f75df78-405b-4a4e-bc78-eb5fde679ce9"
      },
      "source": [
        "data = [1, 2, 3]\n",
        "[x * 2 for x in data]"
      ],
      "execution_count": 30,
      "outputs": [
        {
          "output_type": "execute_result",
          "data": {
            "text/plain": [
              "[2, 4, 6]"
            ]
          },
          "metadata": {
            "tags": []
          },
          "execution_count": 30
        }
      ]
    },
    {
      "cell_type": "code",
      "metadata": {
        "colab": {
          "base_uri": "https://localhost:8080/"
        },
        "id": "UpHjoxvszcpg",
        "outputId": "a23ad841-3386-4f58-a383-8fdc2d76f437"
      },
      "source": [
        "data = [1, 2, 3]\n",
        "[x * 3 for x in data]"
      ],
      "execution_count": 32,
      "outputs": [
        {
          "output_type": "execute_result",
          "data": {
            "text/plain": [
              "[3, 6, 9]"
            ]
          },
          "metadata": {
            "tags": []
          },
          "execution_count": 32
        }
      ]
    },
    {
      "cell_type": "code",
      "metadata": {
        "colab": {
          "base_uri": "https://localhost:8080/"
        },
        "id": "69lMGW3azikw",
        "outputId": "8e880ae1-2510-40bf-e6c5-d27cea679060"
      },
      "source": [
        "data = [1, 2, 3]\n",
        "{x: x * 2 for x in data}"
      ],
      "execution_count": 33,
      "outputs": [
        {
          "output_type": "execute_result",
          "data": {
            "text/plain": [
              "{1: 2, 2: 4, 3: 6}"
            ]
          },
          "metadata": {
            "tags": []
          },
          "execution_count": 33
        }
      ]
    },
    {
      "cell_type": "code",
      "metadata": {
        "colab": {
          "base_uri": "https://localhost:8080/"
        },
        "id": "MhYdQaUGz0IM",
        "outputId": "8b124044-c3f4-4ad4-be28-6deb607316bd"
      },
      "source": [
        "data = [1, 2, 3]\n",
        "tuple(x + 3 for x in data)"
      ],
      "execution_count": 34,
      "outputs": [
        {
          "output_type": "execute_result",
          "data": {
            "text/plain": [
              "(4, 5, 6)"
            ]
          },
          "metadata": {
            "tags": []
          },
          "execution_count": 34
        }
      ]
    },
    {
      "cell_type": "code",
      "metadata": {
        "colab": {
          "base_uri": "https://localhost:8080/"
        },
        "id": "bMbFteZ6z_Df",
        "outputId": "7d6452c5-baa6-47d8-9c1f-54abaf393e52"
      },
      "source": [
        "data = [1, 2, 3]\n",
        "[p + 1 for p in data]"
      ],
      "execution_count": 35,
      "outputs": [
        {
          "output_type": "execute_result",
          "data": {
            "text/plain": [
              "[2, 3, 4]"
            ]
          },
          "metadata": {
            "tags": []
          },
          "execution_count": 35
        }
      ]
    },
    {
      "cell_type": "code",
      "metadata": {
        "colab": {
          "base_uri": "https://localhost:8080/"
        },
        "id": "k9FYfIoQ0v9Q",
        "outputId": "052e67e7-e634-4d6c-eeda-d723019841f0"
      },
      "source": [
        "data = [1, -2, -3]\n",
        "list(abs(k) for k in data)"
      ],
      "execution_count": 39,
      "outputs": [
        {
          "output_type": "execute_result",
          "data": {
            "text/plain": [
              "[1, 2, 3]"
            ]
          },
          "metadata": {
            "tags": []
          },
          "execution_count": 39
        }
      ]
    },
    {
      "cell_type": "code",
      "metadata": {
        "colab": {
          "base_uri": "https://localhost:8080/"
        },
        "id": "L3dkYry606gO",
        "outputId": "3d11c562-5163-49f4-b8dc-0802da394918"
      },
      "source": [
        "import math\n",
        "data = [-1, 2, -3]\n",
        "[math.cos(k) for k in data]\n"
      ],
      "execution_count": 40,
      "outputs": [
        {
          "output_type": "execute_result",
          "data": {
            "text/plain": [
              "[0.5403023058681398, -0.4161468365471424, -0.9899924966004454]"
            ]
          },
          "metadata": {
            "tags": []
          },
          "execution_count": 40
        }
      ]
    },
    {
      "cell_type": "code",
      "metadata": {
        "colab": {
          "base_uri": "https://localhost:8080/"
        },
        "id": "Xmfcc-Dq1Zt2",
        "outputId": "88037312-fc0e-453e-e45f-26367bbec37f"
      },
      "source": [
        "data =[0.5403023058681398, -0.4161468365471424, -0.9899924966004454]\n",
        "[round(g) for g in data]\n"
      ],
      "execution_count": 43,
      "outputs": [
        {
          "output_type": "execute_result",
          "data": {
            "text/plain": [
              "[1, 0, -1]"
            ]
          },
          "metadata": {
            "tags": []
          },
          "execution_count": 43
        }
      ]
    },
    {
      "cell_type": "code",
      "metadata": {
        "colab": {
          "base_uri": "https://localhost:8080/"
        },
        "id": "yctQ-wbS1qAj",
        "outputId": "e12918c6-3b86-493c-a0bd-44dec172c90a"
      },
      "source": [
        "data = ['Femi', 'Tola', 'Anabel']\n",
        "[k[0] for k in data ]"
      ],
      "execution_count": 46,
      "outputs": [
        {
          "output_type": "execute_result",
          "data": {
            "text/plain": [
              "['F', 'T', 'A']"
            ]
          },
          "metadata": {
            "tags": []
          },
          "execution_count": 46
        }
      ]
    },
    {
      "cell_type": "code",
      "metadata": {
        "colab": {
          "base_uri": "https://localhost:8080/"
        },
        "id": "1W25vmun1_qj",
        "outputId": "e97277be-777d-4ea0-bfcf-86e730bba67c"
      },
      "source": [
        "list(len(k) for k in data)"
      ],
      "execution_count": 49,
      "outputs": [
        {
          "output_type": "execute_result",
          "data": {
            "text/plain": [
              "[4, 4, 6]"
            ]
          },
          "metadata": {
            "tags": []
          },
          "execution_count": 49
        }
      ]
    },
    {
      "cell_type": "code",
      "metadata": {
        "colab": {
          "base_uri": "https://localhost:8080/"
        },
        "id": "N0R1KTu92d_z",
        "outputId": "b53c80c9-d370-422b-d36a-e6f694b05fad"
      },
      "source": [
        "data = [ 'Anabel', 'Simbi', 'Cythia']\n",
        "{k:len(k) for k in data}"
      ],
      "execution_count": 51,
      "outputs": [
        {
          "output_type": "execute_result",
          "data": {
            "text/plain": [
              "{'Anabel': 6, 'Cythia': 6, 'Simbi': 5}"
            ]
          },
          "metadata": {
            "tags": []
          },
          "execution_count": 51
        }
      ]
    },
    {
      "cell_type": "code",
      "metadata": {
        "colab": {
          "base_uri": "https://localhost:8080/"
        },
        "id": "FcFLQevx3-7h",
        "outputId": "8aa4248a-a2ba-4209-a57d-9a6fec5cb9f1"
      },
      "source": [
        "data = [ 'Anabel', 'Simbi', 'Cythia', 'Ade']\n",
        "set(len(k) for k in data)"
      ],
      "execution_count": 56,
      "outputs": [
        {
          "output_type": "execute_result",
          "data": {
            "text/plain": [
              "{3, 5, 6}"
            ]
          },
          "metadata": {
            "tags": []
          },
          "execution_count": 56
        }
      ]
    },
    {
      "cell_type": "code",
      "metadata": {
        "colab": {
          "base_uri": "https://localhost:8080/"
        },
        "id": "U5VJB2OK4X7o",
        "outputId": "615e5778-c467-4269-a6aa-ad229da017b0"
      },
      "source": [
        "data = ['John', 'Noel', 'Sidney', 'Udeme']\n",
        "[f for f in data if f == 'Tom']"
      ],
      "execution_count": 65,
      "outputs": [
        {
          "output_type": "execute_result",
          "data": {
            "text/plain": [
              "[]"
            ]
          },
          "metadata": {
            "tags": []
          },
          "execution_count": 65
        }
      ]
    },
    {
      "cell_type": "code",
      "metadata": {
        "colab": {
          "base_uri": "https://localhost:8080/"
        },
        "id": "Zjq0bq6762KM",
        "outputId": "23654f83-a233-4862-8317-2b83cd188758"
      },
      "source": [
        "data = [1,2,3,4,5]\n",
        "[s for s in data if s >4]"
      ],
      "execution_count": 59,
      "outputs": [
        {
          "output_type": "execute_result",
          "data": {
            "text/plain": [
              "[5]"
            ]
          },
          "metadata": {
            "tags": []
          },
          "execution_count": 59
        }
      ]
    },
    {
      "cell_type": "code",
      "metadata": {
        "colab": {
          "base_uri": "https://localhost:8080/"
        },
        "id": "Qj-BXCAc7C_q",
        "outputId": "01660454-f470-43b9-8f73-33a8a9ccbebd"
      },
      "source": [
        "[s for s in data if s == 4]"
      ],
      "execution_count": 60,
      "outputs": [
        {
          "output_type": "execute_result",
          "data": {
            "text/plain": [
              "[4]"
            ]
          },
          "metadata": {
            "tags": []
          },
          "execution_count": 60
        }
      ]
    },
    {
      "cell_type": "code",
      "metadata": {
        "colab": {
          "base_uri": "https://localhost:8080/"
        },
        "id": "3IIZ7HdE7Kyu",
        "outputId": "e1dd3b9d-0cfe-4316-b3ed-d52745604597"
      },
      "source": [
        "[s for s in data if s > 1]"
      ],
      "execution_count": 61,
      "outputs": [
        {
          "output_type": "execute_result",
          "data": {
            "text/plain": [
              "[2, 3, 4, 5]"
            ]
          },
          "metadata": {
            "tags": []
          },
          "execution_count": 61
        }
      ]
    },
    {
      "cell_type": "code",
      "metadata": {
        "colab": {
          "base_uri": "https://localhost:8080/"
        },
        "id": "qaM12Qx47P0-",
        "outputId": "a66cdd02-c109-4a68-f624-5fea0ce72134"
      },
      "source": [
        "[g for g in data if len(g)>4]"
      ],
      "execution_count": 66,
      "outputs": [
        {
          "output_type": "execute_result",
          "data": {
            "text/plain": [
              "['Sidney', 'Udeme']"
            ]
          },
          "metadata": {
            "tags": []
          },
          "execution_count": 66
        }
      ]
    },
    {
      "cell_type": "code",
      "metadata": {
        "colab": {
          "base_uri": "https://localhost:8080/"
        },
        "id": "v4aBQfY67jN0",
        "outputId": "7858f045-a373-4c36-cc19-0ff9894b4365"
      },
      "source": [
        "data = [-1,3,2,-5,5,0]\n",
        "[x for x in data if x > 0]"
      ],
      "execution_count": 67,
      "outputs": [
        {
          "output_type": "execute_result",
          "data": {
            "text/plain": [
              "[3, 2, 5]"
            ]
          },
          "metadata": {
            "tags": []
          },
          "execution_count": 67
        }
      ]
    },
    {
      "cell_type": "code",
      "metadata": {
        "colab": {
          "base_uri": "https://localhost:8080/"
        },
        "id": "NP5_2xDt8GMv",
        "outputId": "484d2735-47ce-42c4-ea8a-809745483357"
      },
      "source": [
        "data = [ 'Anabel','Cara' ,'Simbi', 'Cythia']\n",
        "[x for x in data if len(x) > 3]"
      ],
      "execution_count": 74,
      "outputs": [
        {
          "output_type": "execute_result",
          "data": {
            "text/plain": [
              "['Anabel', 'Cara', 'Simbi', 'Cythia']"
            ]
          },
          "metadata": {
            "tags": []
          },
          "execution_count": 74
        }
      ]
    },
    {
      "cell_type": "code",
      "metadata": {
        "colab": {
          "base_uri": "https://localhost:8080/"
        },
        "id": "n4s3WpXx8mxa",
        "outputId": "663fdabd-927a-4a71-e437-ed46347cfc66"
      },
      "source": [
        "tuple(x for x in data if x[0]== 'C')"
      ],
      "execution_count": 76,
      "outputs": [
        {
          "output_type": "execute_result",
          "data": {
            "text/plain": [
              "('Cara', 'Cythia')"
            ]
          },
          "metadata": {
            "tags": []
          },
          "execution_count": 76
        }
      ]
    },
    {
      "cell_type": "code",
      "metadata": {
        "colab": {
          "base_uri": "https://localhost:8080/"
        },
        "id": "a57YU6mJ9Iy_",
        "outputId": "b764a57a-bb35-4fd4-aaf0-5d95eb22a26d"
      },
      "source": [
        "import math\n",
        "data = [ 1,2,3,4,5,6]\n",
        "list(abs(k) for k in data)\n"
      ],
      "execution_count": 82,
      "outputs": [
        {
          "output_type": "execute_result",
          "data": {
            "text/plain": [
              "[1, 2, 3, 4, 5, 6]"
            ]
          },
          "metadata": {
            "tags": []
          },
          "execution_count": 82
        }
      ]
    },
    {
      "cell_type": "code",
      "metadata": {
        "colab": {
          "base_uri": "https://localhost:8080/"
        },
        "id": "IW-00v4W-P_2",
        "outputId": "6d585df9-13d1-4359-f064-dbaeffb917dd"
      },
      "source": [
        "tuple(abs(n) for n in data)"
      ],
      "execution_count": 83,
      "outputs": [
        {
          "output_type": "execute_result",
          "data": {
            "text/plain": [
              "(1, 2, 3, 4, 5, 6)"
            ]
          },
          "metadata": {
            "tags": []
          },
          "execution_count": 83
        }
      ]
    },
    {
      "cell_type": "code",
      "metadata": {
        "colab": {
          "base_uri": "https://localhost:8080/"
        },
        "id": "v1q3xqPW_PBD",
        "outputId": "8c689c3b-5d76-4d29-97c3-88f4a572e17a"
      },
      "source": [
        "[math.cos(n) for n in data]"
      ],
      "execution_count": 84,
      "outputs": [
        {
          "output_type": "execute_result",
          "data": {
            "text/plain": [
              "[0.5403023058681398,\n",
              " -0.4161468365471424,\n",
              " -0.9899924966004454,\n",
              " -0.6536436208636119,\n",
              " 0.28366218546322625,\n",
              " 0.960170286650366]"
            ]
          },
          "metadata": {
            "tags": []
          },
          "execution_count": 84
        }
      ]
    },
    {
      "cell_type": "code",
      "metadata": {
        "colab": {
          "base_uri": "https://localhost:8080/"
        },
        "id": "teUsY69hAQ1b",
        "outputId": "5d4ee704-8e54-4761-ead5-845a6627380f"
      },
      "source": [
        "data = [ 1,2,3,4,5,6]\n",
        "s=[math.cos(n) for n in data]\n",
        "s\n",
        "\n",
        "\n",
        "\n",
        "\n"
      ],
      "execution_count": 113,
      "outputs": [
        {
          "output_type": "execute_result",
          "data": {
            "text/plain": [
              "[0.5403023058681398,\n",
              " -0.4161468365471424,\n",
              " -0.9899924966004454,\n",
              " -0.6536436208636119,\n",
              " 0.28366218546322625,\n",
              " 0.960170286650366]"
            ]
          },
          "metadata": {
            "tags": []
          },
          "execution_count": 113
        }
      ]
    },
    {
      "cell_type": "code",
      "metadata": {
        "colab": {
          "base_uri": "https://localhost:8080/"
        },
        "id": "zSbxNpifJXYT",
        "outputId": "b86643ff-980f-4a1b-8345-7ad952cb8c0c"
      },
      "source": [
        "tuple(abs(d) for d in data)"
      ],
      "execution_count": 114,
      "outputs": [
        {
          "output_type": "execute_result",
          "data": {
            "text/plain": [
              "(1, 2, 3, 4, 5, 6)"
            ]
          },
          "metadata": {
            "tags": []
          },
          "execution_count": 114
        }
      ]
    },
    {
      "cell_type": "code",
      "metadata": {
        "colab": {
          "base_uri": "https://localhost:8080/"
        },
        "id": "ThE51bU8K_sQ",
        "outputId": "7a44553c-36c7-47b0-d618-487f15eebc3d"
      },
      "source": [
        "new = [0.5403023058681398,\n",
        " -0.4161468365471424,\n",
        " -0.9899924966004454,\n",
        " -0.6536436208636119,\n",
        " 0.28366218546322625,\n",
        " 0.960170286650366]\n",
        "\n",
        "a =tuple(abs(k) for k in new)\n",
        "a"
      ],
      "execution_count": 123,
      "outputs": [
        {
          "output_type": "execute_result",
          "data": {
            "text/plain": [
              "(0.5403023058681398,\n",
              " 0.4161468365471424,\n",
              " 0.9899924966004454,\n",
              " 0.6536436208636119,\n",
              " 0.28366218546322625,\n",
              " 0.960170286650366)"
            ]
          },
          "metadata": {
            "tags": []
          },
          "execution_count": 123
        }
      ]
    },
    {
      "cell_type": "code",
      "metadata": {
        "colab": {
          "base_uri": "https://localhost:8080/"
        },
        "id": "5HzBwCBpftvT",
        "outputId": "69bd4e46-5d6f-4cf4-bd46-d10c791c92d5"
      },
      "source": [
        "[round(x) for x in a]"
      ],
      "execution_count": 124,
      "outputs": [
        {
          "output_type": "execute_result",
          "data": {
            "text/plain": [
              "[1, 0, 1, 1, 0, 1]"
            ]
          },
          "metadata": {
            "tags": []
          },
          "execution_count": 124
        }
      ]
    },
    {
      "cell_type": "code",
      "metadata": {
        "colab": {
          "base_uri": "https://localhost:8080/"
        },
        "id": "VJa7h4HIgPeY",
        "outputId": "3246ab41-dfbc-4cba-ef5d-7de153cc6898"
      },
      "source": [
        "data = [ 1,2,3,4,5,6]\n",
        "k = [math.cos(n) for n in data]\n",
        "k"
      ],
      "execution_count": 129,
      "outputs": [
        {
          "output_type": "execute_result",
          "data": {
            "text/plain": [
              "[0.5403023058681398,\n",
              " -0.4161468365471424,\n",
              " -0.9899924966004454,\n",
              " -0.6536436208636119,\n",
              " 0.28366218546322625,\n",
              " 0.960170286650366]"
            ]
          },
          "metadata": {
            "tags": []
          },
          "execution_count": 129
        }
      ]
    },
    {
      "cell_type": "code",
      "metadata": {
        "colab": {
          "base_uri": "https://localhost:8080/"
        },
        "id": "BnKPgPMoiEym",
        "outputId": "f2206d77-cd51-45e6-edf3-d51aa9ff54bb"
      },
      "source": [
        "[abs(s) for s in k] "
      ],
      "execution_count": 130,
      "outputs": [
        {
          "output_type": "execute_result",
          "data": {
            "text/plain": [
              "[0.5403023058681398,\n",
              " 0.4161468365471424,\n",
              " 0.9899924966004454,\n",
              " 0.6536436208636119,\n",
              " 0.28366218546322625,\n",
              " 0.960170286650366]"
            ]
          },
          "metadata": {
            "tags": []
          },
          "execution_count": 130
        }
      ]
    },
    {
      "cell_type": "code",
      "metadata": {
        "colab": {
          "base_uri": "https://localhost:8080/"
        },
        "id": "qQ1dN4ItiozS",
        "outputId": "e37a64a9-a1fb-41a5-cb46-a6f03e70c1df"
      },
      "source": [
        "import math\n",
        "data=[ 'John', 'Tom', 'Harry', 'Victoria']\n",
        "{x: len(x) for x in data if math.sin(len(x)) > 0}\n"
      ],
      "execution_count": 143,
      "outputs": [
        {
          "output_type": "execute_result",
          "data": {
            "text/plain": [
              "{'Tom': 3, 'Victoria': 8}"
            ]
          },
          "metadata": {
            "tags": []
          },
          "execution_count": 143
        }
      ]
    },
    {
      "cell_type": "code",
      "metadata": {
        "colab": {
          "base_uri": "https://localhost:8080/"
        },
        "id": "A65p1Cicj22S",
        "outputId": "ce4a7ff5-8acf-49b5-f952-3949fec167c5"
      },
      "source": [
        " data = [-5, -3, 1, 2, 3]\n",
        " [x ** 2 for x in data]"
      ],
      "execution_count": 4,
      "outputs": [
        {
          "output_type": "execute_result",
          "data": {
            "text/plain": [
              "[25, 9, 1, 4, 9]"
            ]
          },
          "metadata": {
            "tags": []
          },
          "execution_count": 4
        }
      ]
    },
    {
      "cell_type": "code",
      "metadata": {
        "colab": {
          "base_uri": "https://localhost:8080/"
        },
        "id": "XCVsEA48kjiK",
        "outputId": "a63ff692-951b-4e79-ba36-9e8c3b697787"
      },
      "source": [
        "min(x**2 for x in data if x < 0)"
      ],
      "execution_count": 5,
      "outputs": [
        {
          "output_type": "execute_result",
          "data": {
            "text/plain": [
              "9"
            ]
          },
          "metadata": {
            "tags": []
          },
          "execution_count": 5
        }
      ]
    },
    {
      "cell_type": "code",
      "metadata": {
        "colab": {
          "base_uri": "https://localhost:8080/"
        },
        "id": "q27dQBdklKG5",
        "outputId": "08686ee2-8f61-4b8d-9f59-b40491488b20"
      },
      "source": [
        "data = ['Tobi', 'Amina', 'Taiwa', 'Ayo', 'Victoria', 'Akwaowo', 'Tom']\n",
        "a = {x:len(x) for x in data }\n",
        "a"
      ],
      "execution_count": 11,
      "outputs": [
        {
          "output_type": "execute_result",
          "data": {
            "text/plain": [
              "{'Akwaowo': 7,\n",
              " 'Amina': 5,\n",
              " 'Ayo': 3,\n",
              " 'Taiwa': 5,\n",
              " 'Tobi': 4,\n",
              " 'Tom': 3,\n",
              " 'Victoria': 8}"
            ]
          },
          "metadata": {
            "tags": []
          },
          "execution_count": 11
        }
      ]
    },
    {
      "cell_type": "code",
      "metadata": {
        "colab": {
          "base_uri": "https://localhost:8080/"
        },
        "id": "TERvP4FRlqsh",
        "outputId": "c951a24a-99da-49e9-c536-ad09f79196dc"
      },
      "source": [
        "b = {len(x) for x in a }\n",
        "c = set(b)\n",
        "c\n",
        "type(c)"
      ],
      "execution_count": 27,
      "outputs": [
        {
          "output_type": "execute_result",
          "data": {
            "text/plain": [
              "set"
            ]
          },
          "metadata": {
            "tags": []
          },
          "execution_count": 27
        }
      ]
    },
    {
      "cell_type": "code",
      "metadata": {
        "colab": {
          "base_uri": "https://localhost:8080/"
        },
        "id": "1l2P_ilcndsA",
        "outputId": "9170205f-26e7-4611-a0ba-2f75857416a4"
      },
      "source": [
        "c"
      ],
      "execution_count": 28,
      "outputs": [
        {
          "output_type": "execute_result",
          "data": {
            "text/plain": [
              "{3, 4, 5, 7, 8}"
            ]
          },
          "metadata": {
            "tags": []
          },
          "execution_count": 28
        }
      ]
    },
    {
      "cell_type": "code",
      "metadata": {
        "colab": {
          "base_uri": "https://localhost:8080/"
        },
        "id": "_tDtXs53pxJI",
        "outputId": "32f688d3-7a74-4c66-f22e-e6257090d6a1"
      },
      "source": [
        "min(c)"
      ],
      "execution_count": 29,
      "outputs": [
        {
          "output_type": "execute_result",
          "data": {
            "text/plain": [
              "3"
            ]
          },
          "metadata": {
            "tags": []
          },
          "execution_count": 29
        }
      ]
    },
    {
      "cell_type": "code",
      "metadata": {
        "colab": {
          "base_uri": "https://localhost:8080/"
        },
        "id": "3Ctvdw8fp0vH",
        "outputId": "dd2c0bcd-37fd-49e3-e379-ce46182a8fca"
      },
      "source": [
        "data"
      ],
      "execution_count": 30,
      "outputs": [
        {
          "output_type": "execute_result",
          "data": {
            "text/plain": [
              "['Tobi', 'Amina', 'Taiwa', 'Ayo', 'Victoria', 'Akwaowo', 'Tom']"
            ]
          },
          "metadata": {
            "tags": []
          },
          "execution_count": 30
        }
      ]
    },
    {
      "cell_type": "code",
      "metadata": {
        "colab": {
          "base_uri": "https://localhost:8080/"
        },
        "id": "LLz4N-RHqG-l",
        "outputId": "14658f9f-9251-4f9e-b08d-d9e5505aeb46"
      },
      "source": [
        "min(len(x) for x in data if len(set(y for y in x)) >= 4)"
      ],
      "execution_count": 31,
      "outputs": [
        {
          "output_type": "execute_result",
          "data": {
            "text/plain": [
              "4"
            ]
          },
          "metadata": {
            "tags": []
          },
          "execution_count": 31
        }
      ]
    },
    {
      "cell_type": "code",
      "metadata": {
        "colab": {
          "base_uri": "https://localhost:8080/"
        },
        "id": "Zc9J4PUfq4VH",
        "outputId": "8da76a30-8b2a-4cab-a598-f51f9cf70785"
      },
      "source": [
        "sum(len(x) for x in data if x [0]== 'A')"
      ],
      "execution_count": 34,
      "outputs": [
        {
          "output_type": "execute_result",
          "data": {
            "text/plain": [
              "15"
            ]
          },
          "metadata": {
            "tags": []
          },
          "execution_count": 34
        }
      ]
    },
    {
      "cell_type": "code",
      "metadata": {
        "colab": {
          "base_uri": "https://localhost:8080/"
        },
        "id": "eoDU859DrXD4",
        "outputId": "b1f9554f-876b-4bb2-da06-4d8ad89390ba"
      },
      "source": [
        "tuple( x for x in  (x ** 2 for x in (len(x) for x in(x for x in ['Tobi', 'Amina', 'Taiwa', 'Ayo', 'Victoria', 'Akwaowo', 'Tom']) if x [0] == 'T') if x < 10) if x < 36)"
      ],
      "execution_count": 39,
      "outputs": [
        {
          "output_type": "execute_result",
          "data": {
            "text/plain": [
              "(16, 25, 9)"
            ]
          },
          "metadata": {
            "tags": []
          },
          "execution_count": 39
        }
      ]
    },
    {
      "cell_type": "code",
      "metadata": {
        "colab": {
          "base_uri": "https://localhost:8080/"
        },
        "id": "3afvrIbRs6E7",
        "outputId": "3f05070e-d213-40cb-cf66-5d78d8df7231"
      },
      "source": [
        "#The total length of all the names in the list that starts with \"T\"\n",
        "tuple\\\n",
        "( x for x in \n",
        " (x ** 2 for x in \n",
        "  (len(x) for x in\n",
        "   (x for x in\n",
        "    ['Tobi', 'Amina', 'Taiwa', 'Ayo', 'Victoria', 'Akwaowo', 'Tom']) if x [0] == 'T') \n",
        "  if x < 10)\n",
        "  if x < 36)"
      ],
      "execution_count": 43,
      "outputs": [
        {
          "output_type": "execute_result",
          "data": {
            "text/plain": [
              "(16, 25, 9)"
            ]
          },
          "metadata": {
            "tags": []
          },
          "execution_count": 43
        }
      ]
    },
    {
      "cell_type": "code",
      "metadata": {
        "colab": {
          "base_uri": "https://localhost:8080/"
        },
        "id": "wi0deuyK9Xmv",
        "outputId": "017f3f76-c9a6-4b74-b16c-982fb08ee1ef"
      },
      "source": [
        "friends = ['Joy', 'Aniey', 'Jola', 'Bimpe', 'Taiwo']\n",
        "friends = [len(x) for x in friends if x [0]=='A']\n",
        "friends = [x** 2 for x in friends if x < 10]\n",
        "tuple(x for x in friends if x < 36)"
      ],
      "execution_count": 42,
      "outputs": [
        {
          "output_type": "execute_result",
          "data": {
            "text/plain": [
              "(25,)"
            ]
          },
          "metadata": {
            "tags": []
          },
          "execution_count": 42
        }
      ]
    },
    {
      "cell_type": "code",
      "metadata": {
        "id": "efTLuPo__ZdV"
      },
      "source": [
        ""
      ],
      "execution_count": null,
      "outputs": []
    }
  ]
}